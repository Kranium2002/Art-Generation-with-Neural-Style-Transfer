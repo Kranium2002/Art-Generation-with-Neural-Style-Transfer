{
  "cells": [
    {
      "cell_type": "markdown",
      "metadata": {
        "id": "view-in-github",
        "colab_type": "text"
      },
      "source": [
        "<a href=\"https://colab.research.google.com/github/Kranium2002/Art-Generation-with-Neural-Style-Transfer/blob/main/Leaf_Classification_Hybrid_Model_Resnet%2BXGBoost.ipynb\" target=\"_parent\"><img src=\"https://colab.research.google.com/assets/colab-badge.svg\" alt=\"Open In Colab\"/></a>"
      ]
    },
    {
      "cell_type": "code",
      "source": [
        "!git clone https://github.com/Khushiyant/crop-guard.git"
      ],
      "metadata": {
        "id": "3or0ErNtC9Dl",
        "colab": {
          "base_uri": "https://localhost:8080/"
        },
        "outputId": "80b03e25-8bfe-452f-cd82-153c7a7758f7"
      },
      "execution_count": 1,
      "outputs": [
        {
          "output_type": "stream",
          "name": "stdout",
          "text": [
            "Cloning into 'crop-guard'...\n",
            "fatal: could not read Username for 'https://github.com': No such device or address\n"
          ]
        }
      ]
    },
    {
      "cell_type": "code",
      "source": [
        "!git clone https://github.com/gabrieldgf4/PlantVillage-Dataset.git"
      ],
      "metadata": {
        "colab": {
          "base_uri": "https://localhost:8080/"
        },
        "id": "LITNxxGobsj7",
        "outputId": "f5e75591-a4bc-47f8-adc7-1ddecac79546"
      },
      "execution_count": 2,
      "outputs": [
        {
          "output_type": "stream",
          "name": "stdout",
          "text": [
            "Cloning into 'PlantVillage-Dataset'...\n",
            "remote: Enumerating objects: 54511, done.\u001b[K\n",
            "remote: Counting objects: 100% (108/108), done.\u001b[K\n",
            "remote: Compressing objects: 100% (108/108), done.\u001b[K\n",
            "remote: Total 54511 (delta 36), reused 0 (delta 0), pack-reused 54403\u001b[K\n",
            "Receiving objects: 100% (54511/54511), 806.27 MiB | 37.61 MiB/s, done.\n",
            "Resolving deltas: 100% (50/50), done.\n",
            "Checking out files: 100% (54306/54306), done.\n"
          ]
        }
      ]
    },
    {
      "cell_type": "code",
      "execution_count": null,
      "metadata": {
        "colab": {
          "base_uri": "https://localhost:8080/"
        },
        "id": "mKjIX27Oy9Od",
        "outputId": "a1c6cf4e-65e9-45d9-91cd-b194cfd620e1"
      },
      "outputs": [
        {
          "output_type": "stream",
          "name": "stdout",
          "text": [
            "Cloning into 'Bark_Classification'...\n",
            "remote: Enumerating objects: 5654, done.\u001b[K\n",
            "remote: Counting objects: 100% (33/33), done.\u001b[K\n",
            "remote: Compressing objects: 100% (28/28), done.\u001b[K\n",
            "remote: Total 5654 (delta 15), reused 15 (delta 4), pack-reused 5621\u001b[K\n",
            "Receiving objects: 100% (5654/5654), 259.04 MiB | 36.43 MiB/s, done.\n",
            "Resolving deltas: 100% (15/15), done.\n",
            "Checking out files: 100% (5581/5581), done.\n"
          ]
        }
      ],
      "source": [
        "!git clone https://github.com/Kranium2002/Bark_Classification.git"
      ]
    },
    {
      "cell_type": "code",
      "execution_count": 1,
      "metadata": {
        "id": "1tqgXRDTqNN7"
      },
      "outputs": [],
      "source": [
        "import matplotlib.pyplot as plt\n",
        "import numpy as np\n",
        "from sklearn.model_selection import RandomizedSearchCV, GridSearchCV\n",
        "from sklearn.model_selection import StratifiedKFold\n",
        "import os\n",
        "import tensorflow as tf\n",
        "import tensorflow.keras.layers as tfl\n",
        "from keras.callbacks import History\n",
        "from keras.callbacks import ModelCheckpoint, TensorBoard\n",
        "\n",
        "from keras.engine import training\n",
        "from keras.layers import Conv2D, MaxPooling2D, GlobalAveragePooling2D, Dropout, Activation, Average\n",
        "from keras.losses import categorical_crossentropy\n",
        "from keras.models import Model, Input\n",
        "from sklearn import preprocessing\n",
        "from sklearn.model_selection import train_test_split\n",
        "\n",
        "from tensorflow.python.framework.ops import Tensor\n",
        "from typing import Tuple, List\n",
        "import glob\n",
        "import numpy as np\n",
        "import os\n",
        "from tensorflow.keras.preprocessing.image import ImageDataGenerator \n",
        "from tensorflow.keras.preprocessing import image_dataset_from_directory\n",
        "from tensorflow.keras.layers.experimental.preprocessing import RandomFlip, RandomRotation\n",
        "from tqdm import tqdm\n",
        "import cv2 as cv2\n",
        "from keras.preprocessing.image import img_to_array"
      ]
    },
    {
      "cell_type": "code",
      "source": [
        "directory_root = '/content/PlantVillage-Dataset'"
      ],
      "metadata": {
        "id": "5Bkc6jwgb_gt"
      },
      "execution_count": 2,
      "outputs": []
    },
    {
      "cell_type": "markdown",
      "source": [
        "Data for Resnet Training"
      ],
      "metadata": {
        "id": "0eeVn1jIFVls"
      }
    },
    {
      "cell_type": "code",
      "source": [
        "BATCH_SIZE = 32\n",
        "IMG_SIZE = (256, 256)\n",
        "directory = \"/content/PlantVillage-Dataset/\"\n",
        "train_dataset = tf.keras.utils.image_dataset_from_directory(directory,\n",
        "                                             shuffle=True,\n",
        "                                             batch_size=BATCH_SIZE,\n",
        "                                             image_size=IMG_SIZE,\n",
        "                                             validation_split=0.2,\n",
        "                                             subset='training',\n",
        "                                             seed=42)\n",
        "validation_dataset =tf.keras.utils.image_dataset_from_directory(directory,\n",
        "                                             shuffle=True,\n",
        "                                             batch_size=BATCH_SIZE,\n",
        "                                             image_size=IMG_SIZE,\n",
        "                                             validation_split=0.2,\n",
        "                                             subset='validation',\n",
        "                                             seed=42)"
      ],
      "metadata": {
        "colab": {
          "base_uri": "https://localhost:8080/"
        },
        "id": "8SjydZwxdSh6",
        "outputId": "c5910719-15d2-4e79-af96-cda51f401be2"
      },
      "execution_count": 4,
      "outputs": [
        {
          "output_type": "stream",
          "name": "stdout",
          "text": [
            "Found 54305 files belonging to 40 classes.\n",
            "Using 43444 files for training.\n",
            "Found 54305 files belonging to 40 classes.\n",
            "Using 10861 files for validation.\n"
          ]
        }
      ]
    },
    {
      "cell_type": "markdown",
      "source": [
        "Data for XGBoost Training and Testing of models"
      ],
      "metadata": {
        "id": "nnSQKrlFFZMx"
      }
    },
    {
      "cell_type": "code",
      "source": [
        "IMG_SIZE = (256, 256)\n",
        "BATCH_SIZE = 64\n",
        "data_generator = tf.keras.preprocessing.image.ImageDataGenerator(\n",
        "    \n",
        "    zoom_range = 0.2, \n",
        "    horizontal_flip = True,\n",
        "    vertical_flip = True,\n",
        "    rotation_range = 180,\n",
        "    validation_split = 0.3) \n",
        "\n",
        "train_generator = data_generator.flow_from_directory(\n",
        "    \n",
        "                                            directory_root,\n",
        "                                            class_mode = 'categorical',\n",
        "                                             shuffle=True,\n",
        "                                             batch_size=64,\n",
        "                                             target_size =IMG_SIZE,\n",
        "                                             \n",
        "                                             subset='training',\n",
        "                                             seed=42)\n",
        "\n",
        "validation_generator = data_generator.flow_from_directory( \n",
        "directory_root,\n",
        "                                            class_mode = 'categorical',\n",
        "                                             shuffle=True,\n",
        "                                             batch_size=64,\n",
        "                                             target_size =IMG_SIZE,\n",
        "                                             \n",
        "                                             subset='validation',\n",
        "                                             seed=42)"
      ],
      "metadata": {
        "colab": {
          "base_uri": "https://localhost:8080/"
        },
        "id": "-WSLK5GuvPi2",
        "outputId": "af803652-b104-4ff2-f8c6-3703762d1665"
      },
      "execution_count": 3,
      "outputs": [
        {
          "output_type": "stream",
          "name": "stdout",
          "text": [
            "Found 38031 images belonging to 40 classes.\n",
            "Found 16274 images belonging to 40 classes.\n"
          ]
        }
      ]
    },
    {
      "cell_type": "code",
      "source": [
        "train_generator.reset()\n",
        "x_train, y_train = next(train_generator)\n",
        "for i in tqdm(range(int(len(train_generator)/16-1))): #1st batch is already fetched before the for loop.\n",
        "  img, label = next(train_generator)\n",
        "  x_train = np.append(x_train, img, axis=0 )\n",
        "  y_train = np.append(y_train, label, axis=0)\n",
        "print(x_train.shape, y_train.shape)"
      ],
      "metadata": {
        "colab": {
          "base_uri": "https://localhost:8080/"
        },
        "id": "jOuDX2dHvIxN",
        "outputId": "472bf000-f810-47c6-c93f-eda9afa279d1"
      },
      "execution_count": 4,
      "outputs": [
        {
          "output_type": "stream",
          "name": "stderr",
          "text": [
            "100%|██████████| 36/36 [00:40<00:00,  1.12s/it]"
          ]
        },
        {
          "output_type": "stream",
          "name": "stdout",
          "text": [
            "(2368, 256, 256, 3) (2368, 40)\n"
          ]
        },
        {
          "output_type": "stream",
          "name": "stderr",
          "text": [
            "\n"
          ]
        }
      ]
    },
    {
      "cell_type": "code",
      "source": [
        "validation_generator.reset()\n",
        "x_test, y_test = next(validation_generator)\n",
        "for i in tqdm(range(int(len(validation_generator)/8)-1)): #1st batch is already fetched before the for loop.\n",
        "  img, label = next(validation_generator)\n",
        "  x_test = np.append(x_test, img, axis=0 )\n",
        "  y_test = np.append(y_test, label, axis=0)\n",
        "print(x_test.shape, y_test.shape)"
      ],
      "metadata": {
        "colab": {
          "base_uri": "https://localhost:8080/"
        },
        "id": "Dc88yjorxKMh",
        "outputId": "8e6a4eff-e6cd-4ae2-dbe0-4768137e9bbd"
      },
      "execution_count": 5,
      "outputs": [
        {
          "output_type": "stream",
          "name": "stderr",
          "text": [
            "100%|██████████| 30/30 [00:33<00:00,  1.12s/it]"
          ]
        },
        {
          "output_type": "stream",
          "name": "stdout",
          "text": [
            "(1984, 256, 256, 3) (1984, 40)\n"
          ]
        },
        {
          "output_type": "stream",
          "name": "stderr",
          "text": [
            "\n"
          ]
        }
      ]
    },
    {
      "cell_type": "code",
      "source": [
        "del(train_generator)\n",
        "del(validation_generator)"
      ],
      "metadata": {
        "id": "YVxxWDYrGqxh"
      },
      "execution_count": 7,
      "outputs": []
    },
    {
      "cell_type": "code",
      "source": [
        "Y_train=[]\n",
        "for i in range(y_train.shape[0]):\n",
        "  temp=y_train[i][0:]\n",
        "  temp = np.argmax(temp)\n",
        "  Y_train.append(temp)\n",
        "\n",
        "Y_train=np.asarray(Y_train)\n",
        "Y_train.shape  \n",
        "\n"
      ],
      "metadata": {
        "colab": {
          "base_uri": "https://localhost:8080/"
        },
        "id": "UgXv82rvz3Ho",
        "outputId": "482543c8-4ce2-448a-ca8e-ecfddb7904b9"
      },
      "execution_count": 8,
      "outputs": [
        {
          "output_type": "execute_result",
          "data": {
            "text/plain": [
              "(2368,)"
            ]
          },
          "metadata": {},
          "execution_count": 8
        }
      ]
    },
    {
      "cell_type": "code",
      "source": [
        "Y_test=[]\n",
        "for i in range(y_test.shape[0]):\n",
        "  temp=y_test[i][0:]\n",
        "  temp = np.argmax(temp)\n",
        "  Y_test.append(temp)\n",
        "\n",
        "Y_test=np.asarray(Y_test)\n",
        "Y_test.shape  "
      ],
      "metadata": {
        "colab": {
          "base_uri": "https://localhost:8080/"
        },
        "id": "a5FI2_sdBZAG",
        "outputId": "d2738b59-c33c-4619-cf01-853a0a7dad2a"
      },
      "execution_count": 9,
      "outputs": [
        {
          "output_type": "execute_result",
          "data": {
            "text/plain": [
              "(4032,)"
            ]
          },
          "metadata": {},
          "execution_count": 9
        }
      ]
    },
    {
      "cell_type": "code",
      "source": [
        "del(y_train)\n",
        "del(y_test)"
      ],
      "metadata": {
        "id": "F-JPPh3CW4jc"
      },
      "execution_count": 11,
      "outputs": []
    },
    {
      "cell_type": "code",
      "source": [
        "del(temp)"
      ],
      "metadata": {
        "id": "ucWYPWKxG4fK"
      },
      "execution_count": 10,
      "outputs": []
    },
    {
      "cell_type": "markdown",
      "source": [
        "Basic Data Argumentation to increase the generalization of models"
      ],
      "metadata": {
        "id": "-s76hj1ZuKUz"
      }
    },
    {
      "cell_type": "code",
      "execution_count": null,
      "metadata": {
        "id": "eFki3SI7sCiy"
      },
      "outputs": [],
      "source": [
        "\n",
        "def data_augmenter():\n",
        "\n",
        "    data_augmentation = tf.keras.Sequential()\n",
        "    data_augmentation.add(RandomFlip('horizontal'))\n",
        "    data_augmentation.add(RandomRotation(0.2))\n",
        "    \n",
        "    \n",
        "    return data_augmentation"
      ]
    },
    {
      "cell_type": "markdown",
      "source": [
        "Base Resnet50 Model"
      ],
      "metadata": {
        "id": "oIbBk-SJttbl"
      }
    },
    {
      "cell_type": "code",
      "execution_count": null,
      "metadata": {
        "id": "PrtNS2m_sFV5"
      },
      "outputs": [],
      "source": [
        "def leaf_model(model_input: Tensor, data_augmentation=data_augmenter()):\n",
        "\n",
        "    \n",
        "    \n",
        "    \n",
        "    base_model = tf.keras.applications.resnet50.ResNet50(input_shape=(256,256,3),\n",
        "                                                   include_top=False, \n",
        "                                                   weights='imagenet',input_tensor=model_input) \n",
        "    \n",
        "\n",
        "    base_model.trainable = False\n",
        "   \n",
        "    data_augmentation = data_augmenter()\n",
        "   \n",
        "    x = data_augmentation(model_input)\n",
        "   \n",
        "    x = tf.keras.applications.resnet50.preprocess_input(x) \n",
        "    \n",
        "   \n",
        "    x = base_model(x, training=False) \n",
        "    \n",
        "   \n",
        "   \n",
        "    x = tf.keras.layers.GlobalAveragePooling2D()(x) \n",
        "   \n",
        "    x = tf.keras.layers.Dropout(0.2)(x)\n",
        "        \n",
        "   \n",
        "    x = tf.keras.layers.Dense(50)(x)\n",
        "    \n",
        "  \n",
        "    \n",
        "    model = Model(model_input, x, name='model')\n",
        "    \n",
        "    return model"
      ]
    },
    {
      "cell_type": "code",
      "execution_count": null,
      "metadata": {
        "colab": {
          "base_uri": "https://localhost:8080/"
        },
        "id": "AwCzQlY2vqEm",
        "outputId": "486ad903-95e4-4e14-fcf0-f07c758c3354"
      },
      "outputs": [
        {
          "output_type": "stream",
          "name": "stdout",
          "text": [
            "(256, 256, 3)\n",
            "KerasTensor(type_spec=TensorSpec(shape=(None, 256, 256, 3), dtype=tf.float32, name='input_2'), name='input_2', description=\"created by layer 'input_2'\")\n"
          ]
        }
      ],
      "source": [
        "input_shape = (256,256,3)\n",
        "print(input_shape)\n",
        "model_input = Input(shape=input_shape)\n",
        "print(model_input)"
      ]
    },
    {
      "cell_type": "code",
      "execution_count": null,
      "metadata": {
        "id": "3Ic08oRjvR9V",
        "colab": {
          "base_uri": "https://localhost:8080/"
        },
        "outputId": "61ad7961-964f-4d41-9854-b473dbca08d1"
      },
      "outputs": [
        {
          "output_type": "stream",
          "name": "stdout",
          "text": [
            "Downloading data from https://storage.googleapis.com/tensorflow/keras-applications/resnet/resnet50_weights_tf_dim_ordering_tf_kernels_notop.h5\n",
            "94773248/94765736 [==============================] - 1s 0us/step\n",
            "94781440/94765736 [==============================] - 1s 0us/step\n",
            "<keras.engine.input_layer.InputLayer object at 0x7f2cad23d550>\n",
            "<keras.engine.sequential.Sequential object at 0x7f2c1c204cd0>\n",
            "<keras.layers.core.tf_op_layer.SlicingOpLambda object at 0x7f2c1c1f7fd0>\n",
            "<keras.layers.core.tf_op_layer.TFOpLambda object at 0x7f2c1bf8ffd0>\n",
            "<keras.engine.functional.Functional object at 0x7f2cad072b10>\n",
            "<keras.layers.pooling.GlobalAveragePooling2D object at 0x7f2cad657d90>\n",
            "<keras.layers.core.dropout.Dropout object at 0x7f2c1bf8f050>\n",
            "<keras.layers.core.dense.Dense object at 0x7f2cad666550>\n"
          ]
        }
      ],
      "source": [
        "model = leaf_model(model_input, data_augmenter())\n",
        "\n",
        "for layer in model.layers:\n",
        "  print(layer)"
      ]
    },
    {
      "cell_type": "code",
      "execution_count": null,
      "metadata": {
        "id": "YZlEZf5_vi5q"
      },
      "outputs": [],
      "source": [
        "\n",
        "model.compile(optimizer='adam',loss = tf.keras.losses.SparseCategoricalCrossentropy(from_logits=True), metrics=['accuracy'])"
      ]
    },
    {
      "cell_type": "markdown",
      "source": [
        "Training Resnet with last layer as a Softmax layer"
      ],
      "metadata": {
        "id": "pYI-TIS51lL7"
      }
    },
    {
      "cell_type": "code",
      "execution_count": null,
      "metadata": {
        "colab": {
          "base_uri": "https://localhost:8080/"
        },
        "id": "FvthvOzec-H8",
        "outputId": "b415a62e-79ca-42cb-8afc-a4a3707baa0d"
      },
      "outputs": [
        {
          "output_type": "stream",
          "name": "stdout",
          "text": [
            "Epoch 1/10\n",
            "1358/1358 [==============================] - 254s 176ms/step - loss: 0.3588 - accuracy: 0.9056 - val_loss: 0.1490 - val_accuracy: 0.9538\n",
            "Epoch 2/10\n",
            "1358/1358 [==============================] - 243s 179ms/step - loss: 0.1257 - accuracy: 0.9614 - val_loss: 0.1232 - val_accuracy: 0.9595\n",
            "Epoch 3/10\n",
            "1358/1358 [==============================] - 244s 179ms/step - loss: 0.0985 - accuracy: 0.9689 - val_loss: 0.1357 - val_accuracy: 0.9611\n",
            "Epoch 4/10\n",
            "1358/1358 [==============================] - 243s 179ms/step - loss: 0.0895 - accuracy: 0.9710 - val_loss: 0.0954 - val_accuracy: 0.9688\n",
            "Epoch 5/10\n",
            "1358/1358 [==============================] - 244s 179ms/step - loss: 0.0808 - accuracy: 0.9731 - val_loss: 0.1039 - val_accuracy: 0.9684\n",
            "Epoch 6/10\n",
            "1358/1358 [==============================] - 243s 179ms/step - loss: 0.0749 - accuracy: 0.9754 - val_loss: 0.0955 - val_accuracy: 0.9693\n",
            "Epoch 7/10\n",
            "1358/1358 [==============================] - 243s 179ms/step - loss: 0.0754 - accuracy: 0.9748 - val_loss: 0.0798 - val_accuracy: 0.9743\n",
            "Epoch 8/10\n",
            "1358/1358 [==============================] - 244s 179ms/step - loss: 0.0707 - accuracy: 0.9763 - val_loss: 0.0797 - val_accuracy: 0.9739\n",
            "Epoch 9/10\n",
            "1358/1358 [==============================] - 244s 179ms/step - loss: 0.0686 - accuracy: 0.9776 - val_loss: 0.0834 - val_accuracy: 0.9738\n",
            "Epoch 10/10\n",
            "1358/1358 [==============================] - 243s 179ms/step - loss: 0.0626 - accuracy: 0.9797 - val_loss: 0.1020 - val_accuracy: 0.9681\n"
          ]
        }
      ],
      "source": [
        "history = model.fit(train_dataset,validation_data=validation_dataset,epochs=10)"
      ]
    },
    {
      "cell_type": "code",
      "source": [
        "del(train_dataset)\n",
        "del(validation_dataset)"
      ],
      "metadata": {
        "id": "VmdhCmDAFpeX"
      },
      "execution_count": 12,
      "outputs": []
    },
    {
      "cell_type": "markdown",
      "source": [
        "Result of Transfer Training with Resnet50\n"
      ],
      "metadata": {
        "id": "bEOfH0Rntj5T"
      }
    },
    {
      "cell_type": "code",
      "execution_count": null,
      "metadata": {
        "colab": {
          "base_uri": "https://localhost:8080/",
          "height": 513
        },
        "id": "T6OisrWSv5sd",
        "outputId": "75ab430d-4f5f-45ff-8b9d-209fefea38a4"
      },
      "outputs": [
        {
          "output_type": "display_data",
          "data": {
            "text/plain": [
              "<Figure size 576x576 with 2 Axes>"
            ],
            "image/png": "[encoded data removed]"
          },
          "metadata": {
            "needs_background": "light"
          }
        }
      ],
      "source": [
        "acc = [0.] + history.history['accuracy']\n",
        "val_acc = [0.] + history.history['val_accuracy']\n",
        "\n",
        "loss = history.history['loss']\n",
        "val_loss = history.history['val_loss']\n",
        "\n",
        "plt.figure(figsize=(8, 8))\n",
        "plt.subplot(2, 1, 1)\n",
        "plt.plot(acc, label='Training Accuracy')\n",
        "plt.plot(val_acc, label='Validation Accuracy')\n",
        "plt.legend(loc='lower right')\n",
        "plt.ylabel('Accuracy')\n",
        "plt.ylim([min(plt.ylim()),1])\n",
        "plt.title('Training and Validation Accuracy')\n",
        "\n",
        "plt.subplot(2, 1, 2)\n",
        "plt.plot(loss, label='Training Loss')\n",
        "plt.plot(val_loss, label='Validation Loss')\n",
        "plt.legend(loc='upper right')\n",
        "plt.ylabel('Cross Entropy')\n",
        "plt.ylim([0,1.0])\n",
        "plt.title('Training and Validation Loss')\n",
        "plt.xlabel('epoch')\n",
        "plt.show()"
      ]
    },
    {
      "cell_type": "code",
      "source": [
        "#For training \n",
        "\n",
        "model.save('model.h5')"
      ],
      "metadata": {
        "id": "Nld0RgbBeHnO"
      },
      "execution_count": null,
      "outputs": []
    },
    {
      "cell_type": "code",
      "source": [
        "#For training \n",
        "\n",
        "\n",
        "model = tf.keras.models.load_model('/content/model.h5')"
      ],
      "metadata": {
        "id": "_rwlxYOkgMkg"
      },
      "execution_count": 12,
      "outputs": []
    },
    {
      "cell_type": "code",
      "source": [
        "model.summary()"
      ],
      "metadata": {
        "colab": {
          "base_uri": "https://localhost:8080/"
        },
        "id": "h599a_FzAYbb",
        "outputId": "b118be43-3580-40c0-c5b7-2c7b3235fba5"
      },
      "execution_count": 11,
      "outputs": [
        {
          "output_type": "stream",
          "name": "stdout",
          "text": [
            "Model: \"model\"\n",
            "_________________________________________________________________\n",
            " Layer (type)                Output Shape              Param #   \n",
            "=================================================================\n",
            " input_2 (InputLayer)        [(None, 256, 256, 3)]     0         \n",
            "                                                                 \n",
            " sequential_3 (Sequential)   (None, 256, 256, 3)       0         \n",
            "                                                                 \n",
            " tf.__operators__.getitem (S  (None, 256, 256, 3)      0         \n",
            " licingOpLambda)                                                 \n",
            "                                                                 \n",
            " tf.nn.bias_add (TFOpLambda)  (None, 256, 256, 3)      0         \n",
            "                                                                 \n",
            " resnet50 (Functional)       (None, 8, 8, 2048)        23587712  \n",
            "                                                                 \n",
            " global_average_pooling2d (G  (None, 2048)             0         \n",
            " lobalAveragePooling2D)                                          \n",
            "                                                                 \n",
            " dropout (Dropout)           (None, 2048)              0         \n",
            "                                                                 \n",
            " dense (Dense)               (None, 50)                102450    \n",
            "                                                                 \n",
            "=================================================================\n",
            "Total params: 23,690,162\n",
            "Trainable params: 102,450\n",
            "Non-trainable params: 23,587,712\n",
            "_________________________________________________________________\n"
          ]
        }
      ]
    },
    {
      "cell_type": "code",
      "source": [
        "pred = model.predict(x_test)"
      ],
      "metadata": {
        "id": "u_OwG6iN3j8I"
      },
      "execution_count": 11,
      "outputs": []
    },
    {
      "cell_type": "code",
      "source": [
        "y_test.shape"
      ],
      "metadata": {
        "colab": {
          "base_uri": "https://localhost:8080/"
        },
        "id": "L6V-UVYt4QXA",
        "outputId": "49f7f6a9-b047-4dcb-a5c8-0b5b451df900"
      },
      "execution_count": 12,
      "outputs": [
        {
          "output_type": "execute_result",
          "data": {
            "text/plain": [
              "(4032, 40)"
            ]
          },
          "metadata": {},
          "execution_count": 12
        }
      ]
    },
    {
      "cell_type": "code",
      "source": [
        "Pred=[]\n",
        "for i in range(pred.shape[0]):\n",
        "  temp=pred[i][0:]\n",
        "  temp = np.argmax(temp)\n",
        "  Pred.append(temp)\n",
        "Pred=np.asarray(Pred)\n",
        "Pred.shape  "
      ],
      "metadata": {
        "colab": {
          "base_uri": "https://localhost:8080/"
        },
        "id": "QIROM7DC4rYQ",
        "outputId": "80b8a12d-0dcb-4e99-a892-5eb0f7c90bbd"
      },
      "execution_count": 13,
      "outputs": [
        {
          "output_type": "execute_result",
          "data": {
            "text/plain": [
              "(4032,)"
            ]
          },
          "metadata": {},
          "execution_count": 13
        }
      ]
    },
    {
      "cell_type": "code",
      "source": [
        "Pred[0]"
      ],
      "metadata": {
        "colab": {
          "base_uri": "https://localhost:8080/"
        },
        "id": "RmXi6RX54NHA",
        "outputId": "aa82dcb7-776e-41fa-878c-7e3e177ad083"
      },
      "execution_count": 14,
      "outputs": [
        {
          "output_type": "execute_result",
          "data": {
            "text/plain": [
              "6"
            ]
          },
          "metadata": {},
          "execution_count": 14
        }
      ]
    },
    {
      "cell_type": "code",
      "source": [
        "from sklearn.metrics import r2_score"
      ],
      "metadata": {
        "id": "izopHUhp35QR"
      },
      "execution_count": 15,
      "outputs": []
    },
    {
      "cell_type": "markdown",
      "source": [
        "Only Resnet R2 score"
      ],
      "metadata": {
        "id": "KThi6xZ_7kOQ"
      }
    },
    {
      "cell_type": "code",
      "source": [
        "r2_score(Y_test, Pred)"
      ],
      "metadata": {
        "colab": {
          "base_uri": "https://localhost:8080/"
        },
        "id": "FrIi4xSD3y_a",
        "outputId": "0d44c76f-30dd-4c81-999d-e7a8417072f6"
      },
      "execution_count": 16,
      "outputs": [
        {
          "output_type": "execute_result",
          "data": {
            "text/plain": [
              "0.6322620495494758"
            ]
          },
          "metadata": {},
          "execution_count": 16
        }
      ]
    },
    {
      "cell_type": "code",
      "source": [
        "del(pred)\n",
        "del(Pred)"
      ],
      "metadata": {
        "colab": {
          "base_uri": "https://localhost:8080/",
          "height": 190
        },
        "id": "H0FPe7ZuKTkU",
        "outputId": "d2e97e70-34ca-421c-e573-e1c94df0e12e"
      },
      "execution_count": 18,
      "outputs": [
        {
          "output_type": "error",
          "ename": "NameError",
          "evalue": "ignored",
          "traceback": [
            "\u001b[0;31m---------------------------------------------------------------------------\u001b[0m",
            "\u001b[0;31mNameError\u001b[0m                                 Traceback (most recent call last)",
            "\u001b[0;32m<ipython-input-18-106645683b87>\u001b[0m in \u001b[0;36m<module>\u001b[0;34m\u001b[0m\n\u001b[0;32m----> 1\u001b[0;31m \u001b[0;32mdel\u001b[0m\u001b[0;34m(\u001b[0m\u001b[0mpred\u001b[0m\u001b[0;34m)\u001b[0m\u001b[0;34m\u001b[0m\u001b[0;34m\u001b[0m\u001b[0m\n\u001b[0m\u001b[1;32m      2\u001b[0m \u001b[0;32mdel\u001b[0m\u001b[0;34m(\u001b[0m\u001b[0mPred\u001b[0m\u001b[0;34m)\u001b[0m\u001b[0;34m\u001b[0m\u001b[0;34m\u001b[0m\u001b[0m\n",
            "\u001b[0;31mNameError\u001b[0m: name 'pred' is not defined"
          ]
        }
      ]
    },
    {
      "cell_type": "markdown",
      "source": [
        "Making an intermediate layer model from resnet to use for feature selection "
      ],
      "metadata": {
        "id": "nYPt7rZJ17vX"
      }
    },
    {
      "cell_type": "code",
      "source": [
        "from keras.models import Model\n",
        "layer_name='global_average_pooling2d'\n",
        "intermediate_layer_model = Model(inputs=model.input,\n",
        "                                 outputs=model.get_layer(layer_name).output)\n",
        "\n",
        "intermediate_layer_model.summary()"
      ],
      "metadata": {
        "colab": {
          "base_uri": "https://localhost:8080/"
        },
        "id": "5QyqEY1uhCkt",
        "outputId": "f0037982-a98b-4cd8-969c-dce9a2d4b433"
      },
      "execution_count": 13,
      "outputs": [
        {
          "output_type": "stream",
          "name": "stdout",
          "text": [
            "Model: \"model\"\n",
            "_________________________________________________________________\n",
            " Layer (type)                Output Shape              Param #   \n",
            "=================================================================\n",
            " input_2 (InputLayer)        [(None, 256, 256, 3)]     0         \n",
            "                                                                 \n",
            " sequential_3 (Sequential)   (None, 256, 256, 3)       0         \n",
            "                                                                 \n",
            " tf.__operators__.getitem (S  (None, 256, 256, 3)      0         \n",
            " licingOpLambda)                                                 \n",
            "                                                                 \n",
            " tf.nn.bias_add (TFOpLambda)  (None, 256, 256, 3)      0         \n",
            "                                                                 \n",
            " resnet50 (Functional)       (None, 8, 8, 2048)        23587712  \n",
            "                                                                 \n",
            " global_average_pooling2d (G  (None, 2048)             0         \n",
            " lobalAveragePooling2D)                                          \n",
            "                                                                 \n",
            "=================================================================\n",
            "Total params: 23,587,712\n",
            "Trainable params: 0\n",
            "Non-trainable params: 23,587,712\n",
            "_________________________________________________________________\n"
          ]
        }
      ]
    },
    {
      "cell_type": "code",
      "source": [
        "#Deleting base model for memory optimization\n",
        "\n",
        "del(model)\n"
      ],
      "metadata": {
        "id": "YfOM-ZInhmsk"
      },
      "execution_count": 14,
      "outputs": []
    },
    {
      "cell_type": "code",
      "source": [
        "import pandas as pd"
      ],
      "metadata": {
        "id": "raoY2AhK2rOn"
      },
      "execution_count": 15,
      "outputs": []
    },
    {
      "cell_type": "code",
      "execution_count": 16,
      "metadata": {
        "id": "-up7Xda6wgQm"
      },
      "outputs": [],
      "source": [
        "\n",
        "intermediate_output = intermediate_layer_model.predict(x_test) \n",
        "intermediate_output = pd.DataFrame(data=intermediate_output)"
      ]
    },
    {
      "cell_type": "code",
      "source": [
        "intermediate_output.shape"
      ],
      "metadata": {
        "colab": {
          "base_uri": "https://localhost:8080/"
        },
        "id": "bdVxW5K3fIf3",
        "outputId": "4626fd26-362f-497b-f85f-f83913ba44a1"
      },
      "execution_count": 17,
      "outputs": [
        {
          "output_type": "execute_result",
          "data": {
            "text/plain": [
              "(4032, 2048)"
            ]
          },
          "metadata": {},
          "execution_count": 17
        }
      ]
    },
    {
      "cell_type": "code",
      "source": [
        "\n",
        "intermediate_output_train = intermediate_layer_model.predict(x_train) \n",
        "intermediate_output_train = pd.DataFrame(data=intermediate_output_train)"
      ],
      "metadata": {
        "id": "M0R6d7BPgzA-"
      },
      "execution_count": null,
      "outputs": []
    },
    {
      "cell_type": "code",
      "source": [
        "#Reset GPU for memory optimization\n",
        "\n",
        "!pip install numba\n",
        "from numba import cuda\n",
        "device = cuda.get_current_device()\n",
        "device.reset()"
      ],
      "metadata": {
        "colab": {
          "base_uri": "https://localhost:8080/"
        },
        "id": "l0lqzsFJ6U_J",
        "outputId": "634d4265-21e0-43bf-ca4c-7f6641e5ee0f"
      },
      "execution_count": 17,
      "outputs": [
        {
          "output_type": "stream",
          "name": "stdout",
          "text": [
            "Looking in indexes: https://pypi.org/simple, https://us-python.pkg.dev/colab-wheels/public/simple/\n",
            "Requirement already satisfied: numba in /usr/local/lib/python3.7/dist-packages (0.56.2)\n",
            "Requirement already satisfied: setuptools<60 in /usr/local/lib/python3.7/dist-packages (from numba) (57.4.0)\n",
            "Requirement already satisfied: numpy<1.24,>=1.18 in /usr/local/lib/python3.7/dist-packages (from numba) (1.21.6)\n",
            "Requirement already satisfied: importlib-metadata in /usr/local/lib/python3.7/dist-packages (from numba) (4.12.0)\n",
            "Requirement already satisfied: llvmlite<0.40,>=0.39.0dev0 in /usr/local/lib/python3.7/dist-packages (from numba) (0.39.1)\n",
            "Requirement already satisfied: typing-extensions>=3.6.4 in /usr/local/lib/python3.7/dist-packages (from importlib-metadata->numba) (4.1.1)\n",
            "Requirement already satisfied: zipp>=0.5 in /usr/local/lib/python3.7/dist-packages (from importlib-metadata->numba) (3.8.1)\n"
          ]
        }
      ]
    },
    {
      "cell_type": "code",
      "source": [
        "intermediate_output_train.shape"
      ],
      "metadata": {
        "colab": {
          "base_uri": "https://localhost:8080/"
        },
        "id": "I43F0sxkNG-8",
        "outputId": "4e1ba549-c592-4756-e7f0-7e81d3fb17cc"
      },
      "execution_count": 18,
      "outputs": [
        {
          "output_type": "execute_result",
          "data": {
            "text/plain": [
              "(2368, 2048)"
            ]
          },
          "metadata": {},
          "execution_count": 18
        }
      ]
    },
    {
      "cell_type": "code",
      "source": [],
      "metadata": {
        "colab": {
          "base_uri": "https://localhost:8080/"
        },
        "id": "7W8QxCn81leP",
        "outputId": "c015fd01-d7df-4946-91cc-823b087b4901"
      },
      "execution_count": 38,
      "outputs": [
        {
          "output_type": "execute_result",
          "data": {
            "text/plain": [
              "(1152,)"
            ]
          },
          "metadata": {},
          "execution_count": 38
        }
      ]
    },
    {
      "cell_type": "code",
      "source": [
        "del(intermediate_layer_model)\n"
      ],
      "metadata": {
        "id": "stf1UXQLj5Ye"
      },
      "execution_count": 19,
      "outputs": []
    },
    {
      "cell_type": "markdown",
      "source": [
        "Starting to make hybrid models using XGBoost"
      ],
      "metadata": {
        "id": "tRBPAVxc3Xvx"
      }
    },
    {
      "cell_type": "code",
      "source": [
        "from xgboost import XGBClassifier"
      ],
      "metadata": {
        "id": "i5hrRgyuoLrM"
      },
      "execution_count": 20,
      "outputs": []
    },
    {
      "cell_type": "code",
      "source": [
        "\n",
        "\n",
        "xgbmodel = XGBClassifier(objective='multi:softprob', \n",
        "                      num_class= 50)\n"
      ],
      "metadata": {
        "id": "v4JwzSwHCao_"
      },
      "execution_count": 21,
      "outputs": []
    },
    {
      "cell_type": "markdown",
      "source": [
        "Results of Conv XGBoost hybrid model"
      ],
      "metadata": {
        "id": "HrMUZX4Epluo"
      }
    },
    {
      "cell_type": "code",
      "source": [
        "\n",
        "xgb = XGBClassifier(objective='multi:softprob', \n",
        "                      num_class= 50)"
      ],
      "metadata": {
        "id": "v4hcaiVtryRX"
      },
      "execution_count": 22,
      "outputs": []
    },
    {
      "cell_type": "code",
      "source": [
        "xgb.fit(intermediate_output_train,Y_train)"
      ],
      "metadata": {
        "colab": {
          "base_uri": "https://localhost:8080/"
        },
        "id": "c4-yGZABxWjP",
        "outputId": "f94a441a-abe5-4fee-cabf-5454aa3d0a3d"
      },
      "execution_count": 23,
      "outputs": [
        {
          "output_type": "execute_result",
          "data": {
            "text/plain": [
              "XGBClassifier(num_class=50, objective='multi:softprob')"
            ]
          },
          "metadata": {},
          "execution_count": 23
        }
      ]
    },
    {
      "cell_type": "markdown",
      "source": [
        "R2 Score of Hybrid classifier"
      ],
      "metadata": {
        "id": "SiHINMYSIG62"
      }
    },
    {
      "cell_type": "code",
      "source": [
        "xgb.score(intermediate_output, Y_test)"
      ],
      "metadata": {
        "colab": {
          "base_uri": "https://localhost:8080/"
        },
        "id": "fzGBh2l_xZX0",
        "outputId": "4636d1dd-e8e0-4f2c-8b14-43b0d8f2855a"
      },
      "execution_count": 24,
      "outputs": [
        {
          "output_type": "execute_result",
          "data": {
            "text/plain": [
              "0.8659274193548387"
            ]
          },
          "metadata": {},
          "execution_count": 24
        }
      ]
    },
    {
      "cell_type": "code",
      "source": [],
      "metadata": {
        "id": "BNpU4EP_xbQP"
      },
      "execution_count": null,
      "outputs": []
    }
  ],
  "metadata": {
    "accelerator": "GPU",
    "colab": {
      "provenance": [],
      "collapsed_sections": [],
      "authorship_tag": "ABX9TyOA1qps/uLEh9mUL58cQCzk",
      "include_colab_link": true
    },
    "kernelspec": {
      "display_name": "Python 3",
      "name": "python3"
    },
    "language_info": {
      "name": "python"
    }
  },
  "nbformat": 4,
  "nbformat_minor": 0
}